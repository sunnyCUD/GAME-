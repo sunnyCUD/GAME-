{
 "cells": [
  {
   "cell_type": "code",
   "execution_count": null,
   "metadata": {},
   "outputs": [],
   "source": [
    "import pygame\n",
    "import sys\n",
    "\n",
    "pygame.init()\n",
    "screen = pygame.display.set_mode((400, 300))\n",
    "done = False\n",
    "is_blue = True\n",
    "x = 30\n",
    "y = 30\n",
    "\n",
    "clock = pygame.time.Clock()\n",
    "\n",
    "while not done:\n",
    "        for event in pygame.event.get():\n",
    "                if event.type == pygame.QUIT:\n",
    "                        done = True\n",
    "                        pygame.quit()\n",
    "                        sys.exit()\n",
    "                        quit()\n",
    "                if event.type == pygame.KEYDOWN and event.key == pygame.K_SPACE:\n",
    "                        is_blue = not is_blue\n",
    "        \n",
    "        pressed = pygame.key.get_pressed()\n",
    "        if pressed[pygame.K_UP]: y -= 3\n",
    "        if pressed[pygame.K_DOWN]: y += 3\n",
    "        if pressed[pygame.K_LEFT]: x -= 3\n",
    "        if pressed[pygame.K_RIGHT]: x += 3\n",
    "        \n",
    "        screen.fill((0, 0, 0))\n",
    "        if is_blue: color = (0, 128, 255)\n",
    "        else: color = (255, 100, 0)\n",
    "        pygame.draw.rect(screen, color, pygame.Rect(x, y, 60, 60))\n",
    "        \n",
    "        pygame.display.flip()\n",
    "        clock.tick(60)\n",
    "        \n",
    "        pygame.display.flip()"
   ]
  }
 ],
 "metadata": {
  "kernelspec": {
   "display_name": "Python 3",
   "language": "python",
   "name": "python3"
  },
  "language_info": {
   "codemirror_mode": {
    "name": "ipython",
    "version": 3
   },
   "file_extension": ".py",
   "mimetype": "text/x-python",
   "name": "python",
   "nbconvert_exporter": "python",
   "pygments_lexer": "ipython3",
   "version": "3.7.3"
  }
 },
 "nbformat": 4,
 "nbformat_minor": 2
}
